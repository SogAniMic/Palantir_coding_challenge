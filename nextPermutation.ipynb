{
 "cells": [
  {
   "cell_type": "markdown",
   "id": "144e51f7",
   "metadata": {},
   "source": [
    "# Given a number represented by a list of digits, find the next greater permutation of a number, in terms of lexicographic ordering. If there is not greater permutation possible, return the permutation with the lowest value/ordering.\n",
    "\n",
    "For example, the list [1,2,3] should return [1,3,2]. The list [1,3,2] should return [2,1,3]. The list [3,2,1] should return [1,2,3].\n",
    "\n",
    "Can you perform the operation without allocating extra memory (disregarding the input memory)?"
   ]
  },
  {
   "cell_type": "code",
   "execution_count": null,
   "id": "3c521f5d",
   "metadata": {},
   "outputs": [],
   "source": [
    "def nextPermutation(self, nums):\n",
    "    def swap(nums, a, b):\n",
    "        # Perform an in-place swap\n",
    "        nums[a], nums[b] = nums[b], nums[a]\n",
    "\n",
    "    def reverse(nums, a, b):\n",
    "        # Reverses elements at index a to b (inclusive) in-place\n",
    "        nums[a:b+1] = reversed(nums[a:b+1])\n",
    "\n",
    "    # Find first index where nums[idx] < nums[idx + 1]\n",
    "    pivot = len(nums) - 2\n",
    "    while pivot >= 0 and nums[pivot] >= nums[pivot + 1]:\n",
    "        pivot -= 1\n",
    "\n",
    "    if pivot >= 0:\n",
    "        # Find the next-largest number to swap with\n",
    "        successor = len(nums) - 1\n",
    "        while (successor > 0 and nums[successor] <= nums[pivot]):\n",
    "            successor -= 1\n",
    "        swap(nums, pivot, successor)\n",
    "\n",
    "    reverse(nums, pivot + 1, len(nums) - 1)"
   ]
  }
 ],
 "metadata": {
  "kernelspec": {
   "display_name": "Python 3 (ipykernel)",
   "language": "python",
   "name": "python3"
  },
  "language_info": {
   "codemirror_mode": {
    "name": "ipython",
    "version": 3
   },
   "file_extension": ".py",
   "mimetype": "text/x-python",
   "name": "python",
   "nbconvert_exporter": "python",
   "pygments_lexer": "ipython3",
   "version": "3.9.13"
  }
 },
 "nbformat": 4,
 "nbformat_minor": 5
}
