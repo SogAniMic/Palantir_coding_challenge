{
 "cells": [
  {
   "cell_type": "markdown",
   "id": "a2f90a78",
   "metadata": {},
   "source": [
    "# Write an algorithm to justify text. Given a sequence of words and an integer line length k, return a list of strings which represents each line, fully justified.\n",
    "\n",
    "More specifically, you should have as many words as possible in each line. There should be at least one space between each word. Pad extra spaces when necessary so that each line has exactly length k. Spaces should be distributed as equally as possible, with the extra spaces, if any, distributed starting from the left.\n",
    "\n",
    "If you can only fit one word on a line, then you should pad the right-hand side with spaces.\n",
    "\n",
    "Each word is guaranteed not to be longer than k.\n",
    "\n",
    "For example, given the list of words [\"the\", \"quick\", \"brown\", \"fox\", \"jumps\", \"over\", \"the\", \"lazy\", \"dog\"] and k = 16, you should return the following:\n",
    "\n",
    "[\"the  quick brown\", # 1 extra space on the left\n",
    "\"fox  jumps  over\", # 2 extra spaces distributed evenly\n",
    "\"the   lazy   dog\"] # 4 extra spaces distributed evenly"
   ]
  },
  {
   "cell_type": "code",
   "execution_count": null,
   "id": "8af1b974",
   "metadata": {},
   "outputs": [],
   "source": [
    "def min_line(words):\n",
    "    return ' '.join(words)\n",
    "\n",
    "def group_lines(words, k):\n",
    "    '''\n",
    "    Returns groupings of |words| whose total length, including 1 space in between,\n",
    "    is less than |k|.\n",
    "    '''\n",
    "    groups = []\n",
    "    current_sum = 0\n",
    "    current_line = []\n",
    "    for i, word in enumerate(wordwordss):\n",
    "        # Check if adding the next word would push it over\n",
    "        # the limit. If it does, then add |current_line| to\n",
    "        # group. Also reset |current_line| properly.\n",
    "        if len(min_line(current_line + [word])) > k:\n",
    "            groups.append(current_line)\n",
    "            current_line = []\n",
    "        current_line.append(word)\n",
    "\n",
    "    # Add the last line to groups.\n",
    "    groups.append(current_line)\n",
    "    return groups"
   ]
  }
 ],
 "metadata": {
  "kernelspec": {
   "display_name": "Python 3 (ipykernel)",
   "language": "python",
   "name": "python3"
  },
  "language_info": {
   "codemirror_mode": {
    "name": "ipython",
    "version": 3
   },
   "file_extension": ".py",
   "mimetype": "text/x-python",
   "name": "python",
   "nbconvert_exporter": "python",
   "pygments_lexer": "ipython3",
   "version": "3.9.13"
  }
 },
 "nbformat": 4,
 "nbformat_minor": 5
}
